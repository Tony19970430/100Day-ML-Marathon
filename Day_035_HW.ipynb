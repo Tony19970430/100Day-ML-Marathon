{
 "cells": [
  {
   "cell_type": "markdown",
   "metadata": {},
   "source": [
    "## 練習時間\n",
    "相信大家對回歸問題及分類問題都有初步的了解。今天的作業希望大家搜尋有關 multi-label 的案例問題。下圖是電影 \"奇異博士\" 的分類。可以看到同時有 \"Action\", \"Adventure\", \"Fantasy\" 的類別存在，代表這是個多標籤的問題。 "
   ]
  },
  {
   "cell_type": "markdown",
   "metadata": {},
   "source": [
    "![image](https://cdn-images-1.medium.com/max/1000/1*r0gYXMSQf5VhdMyl2bRDyg.png)"
   ]
  },
  {
   "cell_type": "markdown",
   "metadata": {},
   "source": [
    "## 請搜尋目標為多標籤問題 (Multi-label) 的機器學習案例，了解其資料來源、目標以及評估指標為何\n",
    "## Hint: 服飾"
   ]
  },
  {
   "cell_type": "markdown",
   "metadata": {},
   "source": [
    "You are provided with a large number of Wikipedia comments which have been labeled by human raters for toxic behavior. The types of toxicity are:\n",
    "\n",
    "    toxic\n",
    "    severe_toxic\n",
    "    obscene\n",
    "    threat\n",
    "    insult\n",
    "    identity_hate\n",
    "\n",
    "You must create a model which predicts a probability of each type of toxicity for each comment.\n",
    "File descriptions\n",
    "\n",
    "    train.csv - the training set, contains comments with their binary labels\n",
    "    test.csv - the test set, you must predict the toxicity probabilities for these comments. To deter hand labeling, the test set contains some comments which are not included in scoring.\n",
    "    sample_submission.csv - a sample submission file in the correct format\n",
    "    test_labels.csv - labels for the test data; value of -1 indicates it was not used for scoring; (Note: file added after competition close!)\n",
    "\n",
    "Usage\n",
    "\n",
    "The dataset under CC0, with the underlying comment text being governed by Wikipedia's CC-SA-3.0\n",
    "\n",
    "Update: Jan 30, 2018. Due to changes in the competition dataset, we have changed the evaluation metric of this competition.\n",
    "\n",
    "Submissions are now evaluated on the mean column-wise ROC AUC. In other words, the score is the average of the individual AUCs of each predicted column.\n",
    "Submission File\n",
    "\n",
    "For each id in the test set, you must predict a probability for each of the six possible types of comment toxicity (toxic, severetoxic, obscene, threat, insult, identityhate). The columns must be in the same order as shown below. The file should contain a header and have the following format:\n",
    "\n",
    "id,toxic,severe_toxic,obscene,threat,insult,identity_hate\n",
    "00001cee341fdb12,0.5,0.5,0.5,0.5,0.5,0.5\n",
    "0000247867823ef7,0.5,0.5,0.5,0.5,0.5,0.5\n",
    "etc.\n"
   ]
  },
  {
   "cell_type": "code",
   "execution_count": null,
   "metadata": {},
   "outputs": [],
   "source": []
  }
 ],
 "metadata": {
  "kernelspec": {
   "display_name": "Python 3",
   "language": "python",
   "name": "python3"
  },
  "language_info": {
   "codemirror_mode": {
    "name": "ipython",
    "version": 3
   },
   "file_extension": ".py",
   "mimetype": "text/x-python",
   "name": "python",
   "nbconvert_exporter": "python",
   "pygments_lexer": "ipython3",
   "version": "3.7.1"
  }
 },
 "nbformat": 4,
 "nbformat_minor": 2
}
